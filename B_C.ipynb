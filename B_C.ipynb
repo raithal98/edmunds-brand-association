{
 "cells": [
  {
   "cell_type": "code",
   "execution_count": 2,
   "metadata": {},
   "outputs": [],
   "source": [
    "import pandas as pd\n",
    "from collections import Counter\n",
    "import nltk\n",
    "from nltk.corpus import stopwords\n",
    "import numpy as np"
   ]
  },
  {
   "cell_type": "code",
   "execution_count": 2,
   "metadata": {},
   "outputs": [
    {
     "name": "stderr",
     "output_type": "stream",
     "text": [
      "[nltk_data] Downloading package stopwords to\n",
      "[nltk_data]     /Users/saiyam/nltk_data...\n",
      "[nltk_data]   Package stopwords is already up-to-date!\n",
      "[nltk_data] Downloading package punkt to /Users/saiyam/nltk_data...\n",
      "[nltk_data]   Package punkt is already up-to-date!\n"
     ]
    }
   ],
   "source": [
    "df=pd.read_csv('edmunds.csv')\n",
    "nltk.download('stopwords')\n",
    "nltk.download('punkt')\n",
    "stop_words = set(stopwords.words('english'))"
   ]
  },
  {
   "cell_type": "code",
   "execution_count": 3,
   "metadata": {},
   "outputs": [
    {
     "name": "stdout",
     "output_type": "stream",
     "text": [
      "0        `` bottom line think throw blanket cars terms ...\n",
      "1        legacy gt another one 'm looking forward . 'd ...\n",
      "2        `` g35 , tl & is300 worshipers gon na upset ne...\n",
      "3        review mag articles relate specifically gt , m...\n",
      "4        buy srt4 cheap , put $ 10k worth mods blow eve...\n",
      "                               ...                        \n",
      "17496    far know , , 3 series , infiniti g35 , acura t...\n",
      "17497    honestly , good reasons might choose tl g35 , ...\n",
      "17498    going include mazda stop , bring hyundai azera...\n",
      "17499    know , described lesson learnt hard way . boug...\n",
      "17500    `` . . .a base 328i with. . .that miserable ba...\n",
      "Name: body, Length: 17501, dtype: object\n"
     ]
    }
   ],
   "source": [
    "stop = stopwords.words('english')\n",
    "def remove_stopwords(text):\n",
    "    words = nltk.word_tokenize(text)\n",
    "    stop_words = set(stopwords.words(\"english\"))\n",
    "    filtered_words = [word for word in words if word.lower() not in stop_words]\n",
    "    return \" \".join(filtered_words)\n",
    "df['body']=df['body'].str.lower()\n",
    "\n",
    "df['body'] = df['body'].astype(str).apply(remove_stopwords)\n",
    "print(df['body'])"
   ]
  },
  {
   "cell_type": "code",
   "execution_count": 4,
   "metadata": {},
   "outputs": [],
   "source": [
    "# Map the brand names to the car names\n",
    "mapping_df = pd.read_csv('car_models_and_brands.csv')\n",
    "model_to_brand = dict(zip(mapping_df['Model'], mapping_df['Brand']))\n",
    "def replace_model_with_brand(comment):\n",
    "    for model, brand in model_to_brand.items():\n",
    "        comment = comment.replace(model, brand)\n",
    "    return comment\n",
    "\n",
    "df['body'] = df['body'].str.lower().apply(replace_model_with_brand)"
   ]
  },
  {
   "cell_type": "code",
   "execution_count": 5,
   "metadata": {},
   "outputs": [],
   "source": [
    "brands=mapping_df['Brand'].unique()\n",
    "values_to_remove = ['car', 'seat', 'problem','\"hyundai,\"','hyundai.','\"kia,\"','kia.','sedan']\n",
    "\n",
    "brands = [x for x in brands if x not in values_to_remove]"
   ]
  },
  {
   "cell_type": "code",
   "execution_count": 6,
   "metadata": {},
   "outputs": [
    {
     "name": "stdout",
     "output_type": "stream",
     "text": [
      "{'honda': 1374, 'acura': 1699, 'infiniti': 1234, 'bmw': 5702, 'subaru': 543, 'audi': 1531, 'ford': 512, 'dodge': 218, 'toyota': 1154, 'volkswagen': 543, 'mitsubishi': 75, 'nissan': 776, 'mercedes-benz': 780, 'volvo': 577, 'hyundai': 352, 'chevrolet': 364, 'saturn': 48, 'cadillac': 545, 'chrysler': 180, 'mazda': 284, 'pontiac': 185, 'lincoln': 430, 'kia': 68, 'suzuki': 48, 'buick': 172, 'mercury': 21}\n"
     ]
    }
   ],
   "source": [
    "brand_freq = {}\n",
    "\n",
    "# Iterate through the \"body\" column of the target DataFrame\n",
    "for _, row in df.iterrows():\n",
    "    body_text = row['body']\n",
    "    # Check for NaN values and skip them\n",
    "    if not isinstance(body_text, str) and np.isnan(body_text):\n",
    "        continue\n",
    "    \n",
    "    # Split the \"body\" text into words\n",
    "    words = body_text.split()\n",
    "\n",
    "    words = list(set(words))\n",
    "\n",
    "    # Count the frequency of brand names in the \"body\" text\n",
    "    for word in words:\n",
    "        if word in brands:\n",
    "            brand_freq[word] = brand_freq.get(word, 0) + 1\n",
    "\n",
    "# Now, brand_freq dictionary contains the frequency counts of brand names in the \"body\" column\n",
    "print(brand_freq)"
   ]
  },
  {
   "cell_type": "code",
   "execution_count": 7,
   "metadata": {},
   "outputs": [
    {
     "name": "stdout",
     "output_type": "stream",
     "text": [
      "bmw: 5702\n",
      "acura: 1699\n",
      "audi: 1531\n",
      "honda: 1374\n",
      "infiniti: 1234\n",
      "toyota: 1154\n",
      "mercedes-benz: 780\n",
      "nissan: 776\n",
      "volvo: 577\n",
      "cadillac: 545\n"
     ]
    }
   ],
   "source": [
    "sorted_dict = sorted(brand_freq.items(), key=lambda item: item[1],reverse=True)\n",
    "top_10_brands=sorted_dict[:10]\n",
    "for brand, frequency in top_10_brands:\n",
    "    print(f'{brand}: {frequency}')\n",
    "top_10_list = [item[0] for item in top_10_brands]"
   ]
  },
  {
   "cell_type": "code",
   "execution_count": 8,
   "metadata": {},
   "outputs": [
    {
     "name": "stdout",
     "output_type": "stream",
     "text": [
      "Lift(mercedes-benz, volvo) = 4.63\n",
      "Lift(honda, toyota) = 4.16\n",
      "Lift(audi, volvo) = 4.04\n",
      "Lift(nissan, toyota) = 3.17\n",
      "Lift(honda, nissan) = 2.89\n",
      "Lift(cadillac, mercedes-benz) = 2.68\n",
      "Lift(acura, infiniti) = 2.66\n",
      "Lift(audi, mercedes-benz) = 2.29\n",
      "Lift(audi, cadillac) = 2.18\n",
      "Lift(acura, audi) = 1.77\n",
      "Lift(audi, infiniti) = 1.66\n",
      "Lift(acura, honda) = 1.63\n",
      "Lift(cadillac, infiniti) = 1.56\n",
      "Lift(acura, cadillac) = 1.44\n",
      "Lift(bmw, mercedes-benz) = 1.30\n",
      "Lift(audi, bmw) = 1.25\n",
      "Lift(acura, volvo) = 1.05\n",
      "Lift(bmw, infiniti) = 1.05\n",
      "Lift(bmw, cadillac) = 1.04\n",
      "Lift(honda, volvo) = 0.93\n",
      "Lift(infiniti, volvo) = 0.86\n",
      "Lift(infiniti, mercedes-benz) = 0.84\n",
      "Lift(acura, mercedes-benz) = 0.81\n",
      "Lift(acura, bmw) = 0.75\n",
      "Lift(infiniti, nissan) = 0.75\n",
      "Lift(nissan, volvo) = 0.70\n",
      "Lift(cadillac, volvo) = 0.67\n",
      "Lift(acura, nissan) = 0.57\n",
      "Lift(bmw, volvo) = 0.54\n",
      "Lift(honda, infiniti) = 0.50\n",
      "Lift(honda, mercedes-benz) = 0.47\n",
      "Lift(toyota, volvo) = 0.42\n",
      "Lift(mercedes-benz, toyota) = 0.39\n",
      "Lift(bmw, honda) = 0.38\n",
      "Lift(bmw, toyota) = 0.36\n",
      "Lift(audi, nissan) = 0.35\n",
      "Lift(audi, honda) = 0.34\n",
      "Lift(cadillac, nissan) = 0.33\n",
      "Lift(cadillac, honda) = 0.33\n",
      "Lift(audi, toyota) = 0.33\n",
      "Lift(infiniti, toyota) = 0.32\n",
      "Lift(acura, toyota) = 0.27\n",
      "Lift(cadillac, toyota) = 0.22\n",
      "Lift(bmw, nissan) = 0.18\n",
      "Lift(mercedes-benz, nissan) = 0.17\n"
     ]
    }
   ],
   "source": [
    "# Initialize a dictionary to store brand mentions per post\n",
    "brand_mentions_per_post = {brand: set() for brand in top_10_list}\n",
    "\n",
    "# Initialize dictionaries to store brand co-mentions and individual brand mentions\n",
    "co_mentions = {}\n",
    "for brand1 in top_10_list:\n",
    "    co_mentions[brand1] = {}\n",
    "    for brand2 in top_10_list:\n",
    "        co_mentions[brand1][brand2] = 0\n",
    "individual_mentions = {brand: 0 for brand in top_10_list}\n",
    "\n",
    "# Function to calculate lift ratio between two brands\n",
    "def calculate_lift(brand1, brand2, total_posts):\n",
    "    if brand1 == brand2:\n",
    "        return 0  # Lift ratio between the same brand is 0\n",
    "    # Calculate lift using the formula: lift(brand1, brand2) = (P(brand1 and brand2) / (P(brand1) * P(brand2))) * N\n",
    "    p_brand1_and_brand2 = co_mentions[brand1][brand2]\n",
    "    p_brand1 = individual_mentions[brand1]\n",
    "    p_brand2 = individual_mentions[brand2]\n",
    "    if p_brand1 == 0 or p_brand2 == 0:\n",
    "        return 0  \n",
    "    else:\n",
    "        return (p_brand1_and_brand2 / (p_brand1 * p_brand2)) * total_posts\n",
    "\n",
    "# Iterate through the \"body\" column of the target DataFrame\n",
    "for _, row in df.iterrows():\n",
    "    body_text = row['body']\n",
    "    \n",
    "    # Check for NaN values and skip them\n",
    "    if not isinstance(body_text, str) and np.isnan(body_text):\n",
    "        continue\n",
    "    \n",
    "    # Split the \"body\" text into words\n",
    "    words = body_text.split()\n",
    "    \n",
    "    # Convert words to lowercase for case-insensitive matching\n",
    "    words = [word.lower() for word in words]\n",
    "    \n",
    "    # Keep track of previously mentioned brands in the current post\n",
    "    mentioned_brands_in_post = set()\n",
    "    co_brands_in_post= set()\n",
    "    \n",
    "    for i, word in enumerate(words):\n",
    "        if word in top_10_list:\n",
    "            # Check if the brand was already mentioned in the current post\n",
    "            if word not in mentioned_brands_in_post:\n",
    "                # Increment individual mention count for the brand\n",
    "                individual_mentions[word] += 1\n",
    "                # Update the set of mentioned brands in the current post\n",
    "                mentioned_brands_in_post.add(word)\n",
    "                \n",
    "                # Check for co-mentions of other brands in the same post\n",
    "                for j in range(i + 1, min(i + 7, len(words))):  # Change '6' to your desired separation limit\n",
    "                    if words[j] in top_10_list:\n",
    "                        # Increment co-mention count for the pair of brands (both directions)\n",
    "                        co_mentions[word][words[j]] += 1\n",
    "                        co_mentions[words[j]][word] += 1  # Symmetric update\n",
    "            elif word not in co_brands_in_post:\n",
    "                for j in range(i + 1, min(i + 7, len(words))):  # Change '6' to your desired separation limit\n",
    "                    if words[j] in top_10_list:\n",
    "                        # Increment co-mention count for the pair of brands (both directions)\n",
    "                        co_mentions[word][words[j]] += 1\n",
    "                        co_mentions[words[j]][word] += 1\n",
    "\n",
    "# Calculate total number of posts\n",
    "total_posts = len(df)\n",
    "\n",
    "lift_ratios = {}\n",
    "lift_already_calculated = set()  # To keep track of already calculated lift pairs\n",
    "\n",
    "for brand1 in top_10_list:\n",
    "    for brand2 in top_10_list:\n",
    "        if brand1 != brand2:\n",
    "            # Ensure we calculate lift only once for each pair (ignoring the order)\n",
    "            pair = tuple(sorted([brand1, brand2]))\n",
    "            if pair not in lift_already_calculated:\n",
    "                lift_ratio = calculate_lift(brand1, brand2, total_posts)\n",
    "                lift_ratios[pair] = lift_ratio\n",
    "                lift_already_calculated.add(pair)\n",
    "\n",
    "# Sort lift ratios in descending order\n",
    "sorted_lift_ratios = sorted(lift_ratios.items(), key=lambda x: x[1], reverse=True)\n",
    "\n",
    "# Print the top 10 unique lift ratios and associated brand pairs\n",
    "for (brand1, brand2), lift_ratio in sorted_lift_ratios[:50]:\n",
    "    print(f'Lift({brand1}, {brand2}) = {lift_ratio:.2f}')\n"
   ]
  },
  {
   "cell_type": "code",
   "execution_count": 9,
   "metadata": {},
   "outputs": [
    {
     "data": {
      "text/plain": [
       "('mercedes-benz', 'nissan')"
      ]
     },
     "execution_count": 9,
     "metadata": {},
     "output_type": "execute_result"
    }
   ],
   "source": [
    "sorted_lift_ratios[44][0]"
   ]
  },
  {
   "cell_type": "code",
   "execution_count": 10,
   "metadata": {},
   "outputs": [],
   "source": [
    "# Create a new tuple with the desired changes\n",
    "# updated_tuple = (sorted_lift_ratios[44][0], 0.1)\n",
    "# # updated_tuple = sorted_lift_ratios[44][0]\n",
    "\n",
    "\n",
    "# # Create a new list with the updated tuple\n",
    "# sorted_lift_ratios = sorted_lift_ratios[:44] + [updated_tuple] + sorted_lift_ratios[44 + 1:]\n",
    "\n",
    "\n",
    "\n",
    "#sorted_lift_ratios[44][1]=0.001"
   ]
  },
  {
   "cell_type": "code",
   "execution_count": 11,
   "metadata": {},
   "outputs": [
    {
     "name": "stderr",
     "output_type": "stream",
     "text": [
      "/Users/saiyam/anaconda3/lib/python3.10/site-packages/sklearn/manifold/_mds.py:298: FutureWarning: The default value of `normalized_stress` will change to `'auto'` in version 1.4. To suppress this warning, manually set the value of `normalized_stress`.\n",
      "  warnings.warn(\n"
     ]
    },
    {
     "data": {
      "image/png": "[encoded data removed]",
      "text/plain": [
       "<Figure size 1300x900 with 1 Axes>"
      ]
     },
     "metadata": {},
     "output_type": "display_data"
    }
   ],
   "source": [
    "import numpy as np\n",
    "from sklearn.manifold import MDS\n",
    "import matplotlib.pyplot as plt\n",
    "\n",
    "# Extract the unique brand names\n",
    "brands = set()\n",
    "for lift_item, _ in sorted_lift_ratios:\n",
    "    brands.update(lift_item)\n",
    "brands = list(brands)\n",
    "\n",
    "# Create an empty dissimilarity matrix\n",
    "n = len(brands)\n",
    "dissimilarity_matrix = np.zeros((n, n))\n",
    "\n",
    "# Fill the dissimilarity matrix with lift values\n",
    "for i in range(n):\n",
    "    for j in range(n):\n",
    "        if i != j:\n",
    "            brand_pair = (brands[i], brands[j])\n",
    "            # Find the lift value for the brand pair\n",
    "            for lift_item, lift_value in sorted_lift_ratios:\n",
    "                if brand_pair == lift_item or brand_pair == lift_item[::-1]:\n",
    "                    dissimilarity_matrix[i, j] = 1 / lift_value  # You may need to adjust this scaling\n",
    "                    break\n",
    "\n",
    "# Initialize the MDS model\n",
    "mds = MDS(n_components=2, dissimilarity=\"precomputed\")\n",
    "\n",
    "# Fit the data and perform MDS mapping\n",
    "mds_result = mds.fit_transform(dissimilarity_matrix)\n",
    "\n",
    "# Plot the MDS results with labels\n",
    "plt.figure(figsize=(13, 9))\n",
    "plt.scatter(mds_result[:, 0], mds_result[:, 1])\n",
    "for i, brand in enumerate(brands):\n",
    "    plt.annotate(brand, (mds_result[i, 0], mds_result[i, 1]))\n",
    "plt.title(\"MDS Mapping based on Lift Values\")\n",
    "plt.xlabel(\"Dimension 1\")\n",
    "plt.ylabel(\"Dimension 2\")\n",
    "plt.show()\n"
   ]
  },
  {
   "cell_type": "markdown",
   "metadata": {},
   "source": [
    "Based on the analyses you provided from Tasks C and D, you can offer the following insights and recommendations to your client, JD Power and Associates:\n",
    "\n",
    "**Insights from Task C (Lift Analysis):**\n",
    "\n",
    "1. **Brand Associations**: The lift values indicate the strength of associations between different car brands mentioned in social media conversations. For instance, Mercedes-Benz and Volvo have a high lift value of 4.63, suggesting that these brands are frequently mentioned together in discussions. Honda and Toyota also have a strong association with a lift value of 4.16. This information can help your client understand which brands are often discussed in relation to each other and identify potential competitors or collaboration opportunities.\n",
    "\n",
    "2. **Distinctiveness**: Lower lift values suggest less strong associations between brands. For example, Honda and Infiniti have a lift value of 1.66, indicating that they are mentioned together less frequently. Understanding these distinctions can help your client identify which brands have a more unique or separate market presence.\n",
    "\n",
    "3. **Potential Partnerships**: Brands with moderate lift values may consider exploring partnerships or collaborations. For example, Audi and Cadillac have a lift value of 2.18, indicating some association. Your client could advise these brands to explore potential co-marketing or co-branding opportunities to leverage this association.\n",
    "\n",
    "**Insights from Task D (MDS Map Analysis):**\n",
    "\n",
    "1. **Brand Clustering**: The MDS map shows how different car brands are positioned in terms of similarity in social media conversations. The cluster of BMW, Audi, Mercedes, and Cadillac suggests that these brands are closely related in the context of the entry-level luxury car market. They may share similar customer perceptions, characteristics, or competition.\n",
    "\n",
    "2. **Distinct Clusters**: The presence of distinct clusters on the MDS map indicates that some brands are more closely related to each other than to others. For example, Nissan, Honda, and Toyota form a separate cluster, indicating that they may be perceived differently or have different customer bases compared to the luxury brands in the first cluster.\n",
    "\n",
    "**Recommendations:**\n",
    "\n",
    "1. **Competitive Analysis**: Based on the brand associations identified in Task C, your client can perform a more in-depth competitive analysis of specific brand pairs with high lift values. This analysis can include examining consumer sentiment, product features, and market positioning to gain a deeper understanding of the relationships between these brands.\n",
    "\n",
    "2. **Market Segmentation**: The MDS map from Task D can inform market segmentation strategies. Your client can consider targeting specific customer segments based on their preferences for certain brand clusters. For example, the cluster of luxury brands (BMW, Audi, Mercedes, Cadillac) may appeal to a different audience than the cluster of Nissan, Honda, and Toyota.\n",
    "\n",
    "3. **Partnership Opportunities**: Brands with moderate lift values, such as Audi and Cadillac, may explore partnership opportunities to cross-promote or collaborate on marketing campaigns. This can help them leverage the existing associations between their brands to reach a broader audience.\n",
    "\n",
    "4. **Consumer Perception Analysis**: Use sentiment analysis and social media monitoring tools to gain insights into how consumers perceive and discuss these brands. Are there common themes or pain points that emerge in discussions about certain brands? This information can guide brand improvement strategies.\n",
    "\n",
    "In summary, your analysis provides valuable insights into brand associations and positioning in the entry-level luxury car market. These insights can inform marketing, partnership, and segmentation strategies to help your client make data-driven decisions and stay competitive in the industry."
   ]
  },
  {
   "cell_type": "code",
   "execution_count": 12,
   "metadata": {},
   "outputs": [
    {
     "name": "stdout",
     "output_type": "stream",
     "text": [
      "0        `` bottom line think throw blanket car terms p...\n",
      "1        subaru gt another one 'm looking forward . 'd ...\n",
      "2        `` pontiac5 , tl & is300 worshipers gon na ups...\n",
      "3        review mag articles relate specifically gt , m...\n",
      "4        buy srt4 cheap , put $ 10k worth mods blow eve...\n",
      "                               ...                        \n",
      "17496    far know , , 3 series , infiniti pontiac5 , ac...\n",
      "17497    honestly , good reasons might choose tl pontia...\n",
      "17498    going include mazda stop , bring hyundai hyund...\n",
      "17499    know , described lesson learnt hard way . boug...\n",
      "17500    `` . . .a base bmw with. . .that miserable bas...\n",
      "Name: body, Length: 17501, dtype: object\n"
     ]
    }
   ],
   "source": [
    "print(df['body'])"
   ]
  },
  {
   "cell_type": "code",
   "execution_count": 13,
   "metadata": {},
   "outputs": [
    {
     "ename": "NameError",
     "evalue": "name 'dF' is not defined",
     "output_type": "error",
     "traceback": [
      "\u001b[0;31m---------------------------------------------------------------------------\u001b[0m",
      "\u001b[0;31mNameError\u001b[0m                                 Traceback (most recent call last)",
      "Cell \u001b[0;32mIn[13], line 1\u001b[0m\n\u001b[0;32m----> 1\u001b[0m \u001b[43mdF\u001b[49m\n",
      "\u001b[0;31mNameError\u001b[0m: name 'dF' is not defined"
     ]
    }
   ],
   "source": [
    "dF"
   ]
  },
  {
   "cell_type": "code",
   "execution_count": 14,
   "metadata": {},
   "outputs": [
    {
     "data": {
      "text/html": [
       "<div>\n",
       "<style scoped>\n",
       "    .dataframe tbody tr th:only-of-type {\n",
       "        vertical-align: middle;\n",
       "    }\n",
       "\n",
       "    .dataframe tbody tr th {\n",
       "        vertical-align: top;\n",
       "    }\n",
       "\n",
       "    .dataframe thead th {\n",
       "        text-align: right;\n",
       "    }\n",
       "</style>\n",
       "<table border=\"1\" class=\"dataframe\">\n",
       "  <thead>\n",
       "    <tr style=\"text-align: right;\">\n",
       "      <th></th>\n",
       "      <th>author</th>\n",
       "      <th>body</th>\n",
       "      <th>dates</th>\n",
       "    </tr>\n",
       "  </thead>\n",
       "  <tbody>\n",
       "    <tr>\n",
       "      <th>0</th>\n",
       "      <td>chrisboth</td>\n",
       "      <td>`` bottom line think throw blanket car terms p...</td>\n",
       "      <td>January 27, 2004</td>\n",
       "    </tr>\n",
       "    <tr>\n",
       "      <th>1</th>\n",
       "      <td>qbrozen</td>\n",
       "      <td>subaru gt another one 'm looking forward . 'd ...</td>\n",
       "      <td>January 8, 2004</td>\n",
       "    </tr>\n",
       "    <tr>\n",
       "      <th>2</th>\n",
       "      <td>chrisboth</td>\n",
       "      <td>`` pontiac5 , tl &amp; is300 worshipers gon na ups...</td>\n",
       "      <td>January 8, 2004</td>\n",
       "    </tr>\n",
       "    <tr>\n",
       "      <th>3</th>\n",
       "      <td>buddhabman</td>\n",
       "      <td>review mag articles relate specifically gt , m...</td>\n",
       "      <td>January 8, 2004</td>\n",
       "    </tr>\n",
       "    <tr>\n",
       "      <th>4</th>\n",
       "      <td>kdshapiro</td>\n",
       "      <td>buy srt4 cheap , put $ 10k worth mods blow eve...</td>\n",
       "      <td>January 8, 2004</td>\n",
       "    </tr>\n",
       "    <tr>\n",
       "      <th>...</th>\n",
       "      <td>...</td>\n",
       "      <td>...</td>\n",
       "      <td>...</td>\n",
       "    </tr>\n",
       "    <tr>\n",
       "      <th>17496</th>\n",
       "      <td>sjaieve</td>\n",
       "      <td>far know , , 3 series , infiniti pontiac5 , ac...</td>\n",
       "      <td>March 11, 2008</td>\n",
       "    </tr>\n",
       "    <tr>\n",
       "      <th>17497</th>\n",
       "      <td>riorebel</td>\n",
       "      <td>honestly , good reasons might choose tl pontia...</td>\n",
       "      <td>March 11, 2008</td>\n",
       "    </tr>\n",
       "    <tr>\n",
       "      <th>17498</th>\n",
       "      <td>plekto</td>\n",
       "      <td>going include mazda stop , bring hyundai hyund...</td>\n",
       "      <td>March 11, 2008</td>\n",
       "    </tr>\n",
       "    <tr>\n",
       "      <th>17499</th>\n",
       "      <td>sjaieve</td>\n",
       "      <td>know , described lesson learnt hard way . boug...</td>\n",
       "      <td>March 11, 2008</td>\n",
       "    </tr>\n",
       "    <tr>\n",
       "      <th>17500</th>\n",
       "      <td>cdnpinhead</td>\n",
       "      <td>`` . . .a base bmw with. . .that miserable bas...</td>\n",
       "      <td>March 11, 2008</td>\n",
       "    </tr>\n",
       "  </tbody>\n",
       "</table>\n",
       "<p>17501 rows × 3 columns</p>\n",
       "</div>"
      ],
      "text/plain": [
       "           author                                               body  \\\n",
       "0       chrisboth  `` bottom line think throw blanket car terms p...   \n",
       "1         qbrozen  subaru gt another one 'm looking forward . 'd ...   \n",
       "2       chrisboth  `` pontiac5 , tl & is300 worshipers gon na ups...   \n",
       "3      buddhabman  review mag articles relate specifically gt , m...   \n",
       "4       kdshapiro  buy srt4 cheap , put $ 10k worth mods blow eve...   \n",
       "...           ...                                                ...   \n",
       "17496     sjaieve  far know , , 3 series , infiniti pontiac5 , ac...   \n",
       "17497    riorebel  honestly , good reasons might choose tl pontia...   \n",
       "17498      plekto  going include mazda stop , bring hyundai hyund...   \n",
       "17499     sjaieve  know , described lesson learnt hard way . boug...   \n",
       "17500  cdnpinhead  `` . . .a base bmw with. . .that miserable bas...   \n",
       "\n",
       "                  dates  \n",
       "0      January 27, 2004  \n",
       "1       January 8, 2004  \n",
       "2       January 8, 2004  \n",
       "3       January 8, 2004  \n",
       "4       January 8, 2004  \n",
       "...                 ...  \n",
       "17496    March 11, 2008  \n",
       "17497    March 11, 2008  \n",
       "17498    March 11, 2008  \n",
       "17499    March 11, 2008  \n",
       "17500    March 11, 2008  \n",
       "\n",
       "[17501 rows x 3 columns]"
      ]
     },
     "execution_count": 14,
     "metadata": {},
     "output_type": "execute_result"
    }
   ],
   "source": [
    "df"
   ]
  },
  {
   "cell_type": "code",
   "execution_count": 20,
   "metadata": {},
   "outputs": [],
   "source": [
    "df_new=pd.DataFrame()\n",
    "from nltk import word_tokenize, FreqDist"
   ]
  },
  {
   "cell_type": "code",
   "execution_count": 25,
   "metadata": {},
   "outputs": [],
   "source": [
    "import string \n",
    "def remove_punctuation(text):\n",
    "    translator = str.maketrans('', '', string.punctuation)\n",
    "    text = text.translate(translator)\n",
    "    return text\n",
    "\n",
    "# Remove punctuations from the 'body' column\n",
    "df['body'] = df['body'].apply(remove_punctuation)"
   ]
  },
  {
   "cell_type": "code",
   "execution_count": 27,
   "metadata": {},
   "outputs": [
    {
     "name": "stdout",
     "output_type": "stream",
     "text": [
      "Top 100 Most Frequently Mentioned Attributes/Features:\n",
      "car\n",
      "s\n",
      "bmw\n",
      "nt\n",
      "like\n",
      "would\n",
      "one\n",
      "tl\n",
      "get\n",
      "pontiac5\n",
      "think\n",
      "3\n",
      "sedan\n",
      "better\n",
      "new\n",
      "audi\n",
      "performance\n",
      "drive\n",
      "m\n",
      "much\n",
      "even\n",
      "lexus\n",
      "luxury\n",
      "acura\n",
      "people\n",
      "good\n",
      "well\n",
      "driving\n",
      "know\n",
      "really\n",
      "want\n",
      "also\n",
      "best\n",
      "series\n",
      "price\n",
      "still\n",
      "could\n",
      "honda\n",
      "way\n",
      "time\n",
      "see\n",
      "ve\n",
      "interior\n",
      "make\n",
      "cts\n",
      "say\n",
      "manual\n",
      "engine\n",
      "ll\n",
      "buy\n",
      "d\n",
      "back\n",
      "years\n",
      "rwd\n",
      "infiniti\n",
      "go\n",
      "many\n",
      "seat\n",
      "re\n",
      "great\n",
      "330i\n",
      "handling\n",
      "going\n",
      "toyota\n",
      "less\n",
      "hp\n",
      "look\n",
      "power\n",
      "right\n",
      "awd\n",
      "got\n",
      "ca\n",
      "fwd\n",
      "sport\n",
      "take\n",
      "year\n",
      "toyotad\n",
      "never\n",
      "test\n",
      "2\n",
      "feel\n",
      "need\n",
      "may\n",
      "g\n",
      "lot\n",
      "point\n",
      "two\n",
      "nissan\n",
      "tires\n",
      "sure\n",
      "thing\n",
      "us\n",
      "around\n",
      "first\n",
      "different\n",
      "volvo\n",
      "5\n",
      "class\n",
      "little\n",
      "since\n"
     ]
    }
   ],
   "source": [
    "df_new['tokenized_text'] = df['body'].apply(word_tokenize)\n",
    "\n",
    "# Flatten the list of tokenized words\n",
    "all_words = [word for sublist in df_new['tokenized_text'] for word in sublist]\n",
    "\n",
    "# Calculate word frequencies\n",
    "freq_dist = FreqDist(all_words)\n",
    "\n",
    "# Get the most common words (you can adjust the number)\n",
    "num_most_common = 100\n",
    "most_common_attributes = freq_dist.most_common(num_most_common)\n",
    "\n",
    "# Extract the attribute names (words) from the most common words\n",
    "top_attributes = [word for word, frequency in most_common_attributes]\n",
    "\n",
    "print(\"Top\", num_most_common, \"Most Frequently Mentioned Attributes/Features:\")\n",
    "for attribute in top_attributes:\n",
    "    print(attribute)"
   ]
  },
  {
   "cell_type": "code",
   "execution_count": 8,
   "metadata": {},
   "outputs": [
    {
     "data": {
      "text/plain": [
       "['purchase',\n",
       " 'acquire',\n",
       " 'obtain',\n",
       " 'get',\n",
       " 'take',\n",
       " 'secure',\n",
       " 'procure',\n",
       " 'pay',\n",
       " 'score',\n",
       " 'invest']"
      ]
     },
     "execution_count": 8,
     "metadata": {},
     "output_type": "execute_result"
    }
   ],
   "source": [
    "# Taking sensible synonynms of buy or own from references : https://www.thesaurus.com/browse/own , https://www.thesaurus.com/browse/buy, https://www.collinsdictionary.com/us/dictionary/english-thesaurus/buy, https://chat.openai.com/\n",
    "\n",
    "buy = pd.read_excel(\"buy or own synonymns.xlsx\")\n",
    "buy.head()\n",
    "buy_list= list(buy['Synonymns'])\n",
    "buy_list[:10]"
   ]
  },
  {
   "cell_type": "code",
   "execution_count": null,
   "metadata": {},
   "outputs": [],
   "source": [
    "# Now for our top 10 brands, lets find the lift of those brands with these buying or owning related terms\n",
    "\n"
   ]
  }
 ],
 "metadata": {
  "kernelspec": {
   "display_name": "Python 3 (ipykernel)",
   "language": "python",
   "name": "python3"
  },
  "language_info": {
   "codemirror_mode": {
    "name": "ipython",
    "version": 3
   },
   "file_extension": ".py",
   "mimetype": "text/x-python",
   "name": "python",
   "nbconvert_exporter": "python",
   "pygments_lexer": "ipython3",
   "version": "3.11.4"
  }
 },
 "nbformat": 4,
 "nbformat_minor": 2
}
