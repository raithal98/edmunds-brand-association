{
 "cells": [
  {
   "cell_type": "code",
   "execution_count": 1,
   "metadata": {},
   "outputs": [],
   "source": [
    "import pandas as pd\n",
    "from collections import Counter\n",
    "import nltk\n",
    "from nltk.corpus import stopwords\n",
    "import numpy as np"
   ]
  },
  {
   "cell_type": "code",
   "execution_count": 2,
   "metadata": {},
   "outputs": [
    {
     "name": "stderr",
     "output_type": "stream",
     "text": [
      "[nltk_data] Downloading package stopwords to\n",
      "[nltk_data]     /Users/rachana/nltk_data...\n",
      "[nltk_data]   Package stopwords is already up-to-date!\n",
      "[nltk_data] Downloading package punkt to /Users/rachana/nltk_data...\n",
      "[nltk_data]   Package punkt is already up-to-date!\n"
     ]
    }
   ],
   "source": [
    "df=pd.read_csv('edmunds5.csv')\n",
    "nltk.download('stopwords')\n",
    "nltk.download('punkt')\n",
    "stop_words = set(stopwords.words('english'))"
   ]
  },
  {
   "cell_type": "code",
   "execution_count": 3,
   "metadata": {},
   "outputs": [],
   "source": [
    "stop = stopwords.words('english')\n",
    "def remove_stopwords(text):\n",
    "    words = nltk.word_tokenize(text)\n",
    "    stop_words = set(stopwords.words(\"english\"))\n",
    "    filtered_words = [word for word in words if word.lower() not in stop_words]\n",
    "    return \" \".join(filtered_words)\n",
    "df['body']=df['body'].str.lower()\n",
    "\n",
    "df['body'] = df['body'].astype(str).apply(remove_stopwords)"
   ]
  },
  {
   "cell_type": "code",
   "execution_count": 62,
   "metadata": {},
   "outputs": [],
   "source": [
    "#####CSV method\n",
    "mapping_df = pd.read_csv('car_models_and_brands.csv')\n",
    "\n",
    "# Load the second CSV file (contains model names)\n",
    "model_df = pd.read_csv('processed_file.csv')\n",
    "\n",
    "\n",
    "# Create a dictionary from the mapping DataFrame\n",
    "model_to_brand = dict(zip(mapping_df['Model'], mapping_df['Brand']))\n",
    "\n",
    "# Function to replace model names with brand names\n",
    "def replace_model_with_brand(model_name):\n",
    "    return model_to_brand.get(model_name, model_name)\n",
    "\n",
    "# Apply the replacement function to the 'Model' column in the second DataFrame\n",
    "model_df['body'] = model_df['body'].apply(replace_model_with_brand)\n",
    "\n",
    "# Save the updated DataFrame to a new CSV file\n",
    "model_df.to_csv('updated_model_names.csv', index=False)"
   ]
  },
  {
   "cell_type": "code",
   "execution_count": 4,
   "metadata": {},
   "outputs": [
    {
     "data": {
      "text/plain": [
       "0       braking - sorry 70 0 braking 189 reported c & ...\n",
       "1       new 2004 accord drove driveway last night . go...\n",
       "2       love numbers , compare performance price numbe...\n",
       "3       kd , people buy tl accord , reason bought 330 ...\n",
       "4       pg48477 ... prove point . luxury primary crite...\n",
       "                              ...                        \n",
       "4995    `` meaningless '' guess 's meaningless actuall...\n",
       "4996    guess everyone hung whole msrp value thing . g...\n",
       "4997    please stop yelling ! consider used camaro z28...\n",
       "4998    response exepected ... discounting areas bmw e...\n",
       "4999    `` please mountain , curvy , wavy road nonsens...\n",
       "Name: body, Length: 5000, dtype: object"
      ]
     },
     "execution_count": 4,
     "metadata": {},
     "output_type": "execute_result"
    }
   ],
   "source": [
    "df['body']"
   ]
  },
  {
   "cell_type": "code",
   "execution_count": 5,
   "metadata": {},
   "outputs": [],
   "source": [
    "# Map the brand names to the car names\n",
    "mapping_df = pd.read_csv('car_models_and_brands.csv')\n",
    "model_to_brand = dict(zip(mapping_df['Model'], mapping_df['Brand']))\n",
    "def replace_model_with_brand(model_name):\n",
    "    return model_to_brand.get(model_name, model_name)\n",
    "\n",
    "df['body'] = df['body'].str.lower().apply(replace_model_with_brand)\n"
   ]
  },
  {
   "cell_type": "code",
   "execution_count": 6,
   "metadata": {},
   "outputs": [],
   "source": [
    "brands=mapping_df['Brand'].unique()\n",
    "values_to_remove = ['car', 'seat', 'problem','\"hyundai,\"','hyundai.','\"kia,\"','kia.']\n",
    "\n",
    "brands = [x for x in brands if x not in values_to_remove]"
   ]
  },
  {
   "cell_type": "code",
   "execution_count": 7,
   "metadata": {},
   "outputs": [
    {
     "name": "stdout",
     "output_type": "stream",
     "text": [
      "{'bmw': 1177, 'honda': 169, 'acura': 382, 'sedan': 528, 'hyundai': 66, 'pontiac': 23, 'mercedes': 125, 'audi': 262, 'mazda': 60, 'infiniti': 336, 'lincoln': 45, 'chrysler': 44, 'dodge': 26, 'cadillac': 104, 'toyota': 120, 'nissan': 164, 'subaru': 112, 'ford': 63, 'volvo': 110, 'volkswagen': 15, 'mitsubishi': 15, 'saturn': 10, 'buick': 22, 'mercedes-benz': 25, 'kia': 21, 'mercury': 5, 'suzuki': 8, 'volkwagen': 1, 'chevrolet': 4}\n"
     ]
    }
   ],
   "source": [
    "# Load the CSV file with brand names\n",
    "#brand_df = pd.read_csv('car_models_and_brands.csv')\n",
    "\n",
    "# Load the CSV file with the \"body\" column\n",
    "#target_df = pd.read_csv('updated_model_names.csv')\n",
    "\n",
    "\n",
    "# Initialize an empty dictionary to store brand frequencies\n",
    "brand_freq = {}\n",
    "\n",
    "# Iterate through the \"body\" column of the target DataFrame\n",
    "for _, row in df.iterrows():\n",
    "    body_text = row['body']\n",
    "    # Check for NaN values and skip them\n",
    "    if not isinstance(body_text, str) and np.isnan(body_text):\n",
    "        continue\n",
    "    \n",
    "    # Split the \"body\" text into words\n",
    "    words = body_text.split()\n",
    "    \n",
    "    words = [word.lower() for word in words] \n",
    "    words = list(set(words))\n",
    "\n",
    "    # Count the frequency of brand names in the \"body\" text\n",
    "    for word in words:\n",
    "        if word in brands:\n",
    "            brand_freq[word] = brand_freq.get(word, 0) + 1\n",
    "\n",
    "# Now, brand_freq dictionary contains the frequency counts of brand names in the \"body\" column\n",
    "print(brand_freq)"
   ]
  },
  {
   "cell_type": "code",
   "execution_count": 8,
   "metadata": {},
   "outputs": [
    {
     "name": "stdout",
     "output_type": "stream",
     "text": [
      "bmw: 1177\n",
      "sedan: 528\n",
      "acura: 382\n",
      "infiniti: 336\n",
      "audi: 262\n",
      "honda: 169\n",
      "nissan: 164\n",
      "mercedes: 125\n",
      "toyota: 120\n",
      "subaru: 112\n",
      "['bmw', 'sedan', 'acura', 'infiniti', 'audi', 'honda', 'nissan', 'mercedes', 'toyota', 'subaru']\n"
     ]
    }
   ],
   "source": [
    "sorted_dict = sorted(brand_freq.items(), key=lambda item: item[1],reverse=True)\n",
    "top_10_brands=sorted_dict[:10]\n",
    "for brand, frequency in top_10_brands:\n",
    "    print(f'{brand}: {frequency}')\n",
    "top_10_list = [item[0] for item in top_10_brands]\n",
    "print(top_10_list)"
   ]
  },
  {
   "cell_type": "code",
   "execution_count": 11,
   "metadata": {},
   "outputs": [
    {
     "name": "stdout",
     "output_type": "stream",
     "text": [
      "Lift(honda, toyota) = 5.18\n",
      "Lift(toyota, honda) = 4.68\n",
      "Lift(toyota, nissan) = 3.30\n",
      "Lift(honda, nissan) = 2.71\n",
      "Lift(nissan, toyota) = 2.03\n",
      "Lift(nissan, honda) = 1.62\n",
      "Lift(acura, infiniti) = 1.29\n",
      "Lift(infiniti, acura) = 1.01\n",
      "Lift(audi, mercedes) = 0.92\n",
      "Lift(acura, audi) = 0.90\n"
     ]
    }
   ],
   "source": [
    "# Initialize a dictionary to store brand mentions per post\n",
    "brand_mentions_per_post = {brand: set() for brand in top_10_list}\n",
    "\n",
    "# Initialize dictionaries to store brand co-mentions and individual brand mentions\n",
    "co_mentions = {}\n",
    "for brand1 in top_10_list:\n",
    "    co_mentions[brand1] = {}\n",
    "    for brand2 in top_10_list:\n",
    "        co_mentions[brand1][brand2] = 0\n",
    "individual_mentions = {brand: 0 for brand in top_10_list}\n",
    "\n",
    "# Function to calculate lift ratio between two brands\n",
    "def calculate_lift(brand1, brand2, total_posts):\n",
    "    if brand1 == brand2:\n",
    "        return 0  # Lift ratio between the same brand is 0\n",
    "    # Calculate lift using the formula: lift(brand1, brand2) = (P(brand1 and brand2) / (P(brand1) * P(brand2))) * N\n",
    "    p_brand1_and_brand2 = co_mentions[brand1][brand2]\n",
    "    p_brand1 = individual_mentions[brand1]\n",
    "    p_brand2 = individual_mentions[brand2]\n",
    "    if p_brand1 == 0 or p_brand2 == 0:\n",
    "        return 0  \n",
    "    else:\n",
    "        return (p_brand1_and_brand2 / (p_brand1 * p_brand2)) * total_posts\n",
    "\n",
    "# Iterate through the \"body\" column of the target DataFrame\n",
    "for _, row in df.iterrows():\n",
    "    body_text = row['body']\n",
    "    \n",
    "    # Check for NaN values and skip them\n",
    "    if not isinstance(body_text, str) and np.isnan(body_text):\n",
    "        continue\n",
    "    \n",
    "    # Split the \"body\" text into words\n",
    "    words = body_text.split()\n",
    "    \n",
    "    # Convert words to lowercase for case-insensitive matching\n",
    "    words = [word.lower() for word in words]\n",
    "    \n",
    "    # Keep track of previously mentioned brands in the current post\n",
    "    mentioned_brands_in_post = set()\n",
    "    \n",
    "    for i, word in enumerate(words):\n",
    "        if word in top_10_list:\n",
    "            # Check if the brand was already mentioned in the current post\n",
    "            if word not in mentioned_brands_in_post:\n",
    "                # Increment individual mention count for the brand\n",
    "                individual_mentions[word] += 1\n",
    "                # Update the set of mentioned brands in the current post\n",
    "                mentioned_brands_in_post.add(word)\n",
    "                \n",
    "                # Check for co-mentions of other brands in the same post\n",
    "                for j in range(i + 1, min(i + 6, len(words))):  # Change '6' to your desired separation limit\n",
    "                    if words[j] in top_10_list:\n",
    "                        # Increment co-mention count for the pair of brands\n",
    "                        co_mentions[word][words[j]] += 1\n",
    "\n",
    "# Calculate total number of posts\n",
    "total_posts = len(df)\n",
    "\n",
    "# Calculate lift ratios for brand pairs\n",
    "lift_ratios = {}\n",
    "for brand1 in top_10_list:\n",
    "    for brand2 in top_10_list:\n",
    "        if brand1 != brand2:\n",
    "            lift_ratio = calculate_lift(brand1, brand2, total_posts)\n",
    "            lift_ratios[(brand1, brand2)] = lift_ratio\n",
    "\n",
    "# Sort lift ratios in descending order\n",
    "sorted_lift_ratios = sorted(lift_ratios.items(), key=lambda x: x[1], reverse=True)\n",
    "\n",
    "# Print the top 10 lift ratios and associated brand pairs\n",
    "for (brand1, brand2), lift_ratio in sorted_lift_ratios[:10]:\n",
    "    print(f'Lift({brand1}, {brand2}) = {lift_ratio:.2f}')"
   ]
  },
  {
   "cell_type": "code",
   "execution_count": null,
   "metadata": {},
   "outputs": [],
   "source": []
  }
 ],
 "metadata": {
  "kernelspec": {
   "display_name": "Python 3",
   "language": "python",
   "name": "python3"
  },
  "language_info": {
   "codemirror_mode": {
    "name": "ipython",
    "version": 3
   },
   "file_extension": ".py",
   "mimetype": "text/x-python",
   "name": "python",
   "nbconvert_exporter": "python",
   "pygments_lexer": "ipython3",
   "version": "3.11.4"
  },
  "orig_nbformat": 4
 },
 "nbformat": 4,
 "nbformat_minor": 2
}
